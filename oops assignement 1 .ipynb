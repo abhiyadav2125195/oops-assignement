{
 "cells": [
  {
   "cell_type": "markdown",
   "id": "5afa7f32-4822-4bdc-85d3-779ea3571a2f",
   "metadata": {},
   "source": [
    "## Q1, Create a vehicle class with an init method having instance variables as name_of_vehicle, max_speed and average_of_vehicle."
   ]
  },
  {
   "cell_type": "code",
   "execution_count": null,
   "id": "fc0402e8-1b68-4175-aae2-bff895be713b",
   "metadata": {},
   "outputs": [],
   "source": [
    "class pwskills :\n",
    "    def __init__(self,name_of_vechile,max_speed,average_of_vechile) :\n",
    "        self.name_of_vechile = name_of_vechile\n",
    "        self.max_speed = max_speed\n",
    "        self.average_of_vechile = average_of_vechile\n",
    "\n",
    "    def return_vechile_detail(self) :\n",
    "        return self.name_of_vechile ,  self.max_speed , self.average_of_vechile"
   ]
  },
  {
   "cell_type": "code",
   "execution_count": null,
   "id": "63990cf8-881f-42b2-8a71-8cddc1818296",
   "metadata": {},
   "outputs": [],
   "source": [
    "abhi = pwskills(\"maruti\" , 100 , 15)"
   ]
  },
  {
   "cell_type": "code",
   "execution_count": 101,
   "id": "1a3b62ce-96f3-40e9-b2aa-ac8b94593b67",
   "metadata": {},
   "outputs": [
    {
     "data": {
      "text/plain": [
       "('maruti', 100, 15)"
      ]
     },
     "execution_count": 101,
     "metadata": {},
     "output_type": "execute_result"
    }
   ],
   "source": [
    "abhi.return_vechile_detail()"
   ]
  },
  {
   "cell_type": "markdown",
   "id": "68bb0700-7f98-454e-a0e9-5501422c546f",
   "metadata": {},
   "source": [
    "## Q2. Create a child class car from the vehicle class created in Que 1, which will inherit the vehicle class. Create a method named seating_capacity which takes capacity as an argument and returns the name of the vehicle and its seating capacity."
   ]
  },
  {
   "cell_type": "code",
   "execution_count": 104,
   "id": "4ba8c32f-544b-4ea7-b13d-680a92170d32",
   "metadata": {},
   "outputs": [],
   "source": [
    "class child_class (pwskills) :\n",
    "    def seating_capacity(self,capacity):\n",
    "        self.seating_capacity = seating_capacity\n",
    "        \n",
    "    def return_vechile_detail():\n",
    "        return self.child_class\n",
    "     "
   ]
  },
  {
   "cell_type": "code",
   "execution_count": 105,
   "id": "58b2c823-695e-42e4-913e-cc5ec416df69",
   "metadata": {},
   "outputs": [],
   "source": []
  },
  {
   "cell_type": "code",
   "execution_count": 110,
   "id": "62cc11e0-cfcc-4989-9c2b-48dbbd3937e6",
   "metadata": {},
   "outputs": [
    {
     "ename": "TypeError",
     "evalue": "pwskills.__init__() missing 2 required positional arguments: 'max_speed' and 'average_of_vechile'",
     "output_type": "error",
     "traceback": [
      "\u001b[0;31m---------------------------------------------------------------------------\u001b[0m",
      "\u001b[0;31mTypeError\u001b[0m                                 Traceback (most recent call last)",
      "Cell \u001b[0;32mIn[110], line 1\u001b[0m\n\u001b[0;32m----> 1\u001b[0m l \u001b[38;5;241m=\u001b[39m  \u001b[43mchild_class\u001b[49m\u001b[43m(\u001b[49m\u001b[38;5;241;43m5\u001b[39;49m\u001b[43m)\u001b[49m\n",
      "\u001b[0;31mTypeError\u001b[0m: pwskills.__init__() missing 2 required positional arguments: 'max_speed' and 'average_of_vechile'"
     ]
    }
   ],
   "source": [
    "l =  child_class(5)"
   ]
  },
  {
   "cell_type": "markdown",
   "id": "5cf41653-2877-4fbb-a107-062d6650adc6",
   "metadata": {},
   "source": [
    "## Q3. What is multiple inheritance? Write a python code to demonstrate multiple inheritance."
   ]
  },
  {
   "cell_type": "markdown",
   "id": "9da9024f-78fc-4b16-b26b-eff73b5b7335",
   "metadata": {},
   "source": [
    "### Multiple inheritance in Python refers to the ability of a class to inherit attributes and methods from more than one parent class. It allows a class to derive characteristics from multiple base classes, combining their features and functionality."
   ]
  },
  {
   "cell_type": "code",
   "execution_count": 7,
   "id": "7066a5a3-4816-44a2-b625-ce3111cd6f7c",
   "metadata": {},
   "outputs": [],
   "source": [
    "class class1 :\n",
    "    def test_class1(self) :\n",
    "        return\"this is my class1\""
   ]
  },
  {
   "cell_type": "code",
   "execution_count": 8,
   "id": "ef7655dc-b932-4d93-8780-180c10c4dafe",
   "metadata": {},
   "outputs": [],
   "source": [
    "class class2 :\n",
    "    def test_class2(self) :\n",
    "        return\"this is my class2\""
   ]
  },
  {
   "cell_type": "code",
   "execution_count": 28,
   "id": "f58bdf17-339e-4502-8ebc-13801221a4b6",
   "metadata": {},
   "outputs": [],
   "source": [
    "class class3(class1,class2) :\n",
    "    def test_class3(self) :\n",
    "        return \"this is my class3\""
   ]
  },
  {
   "cell_type": "code",
   "execution_count": 29,
   "id": "5cb09a37-9bb5-4e81-9948-50c35cc3f843",
   "metadata": {},
   "outputs": [],
   "source": [
    "object_1 = class3()"
   ]
  },
  {
   "cell_type": "code",
   "execution_count": 30,
   "id": "4e3a1a45-8603-4d2a-b4df-4a1413b580f7",
   "metadata": {},
   "outputs": [
    {
     "data": {
      "text/plain": [
       "'this is my class1'"
      ]
     },
     "execution_count": 30,
     "metadata": {},
     "output_type": "execute_result"
    }
   ],
   "source": [
    "object_1. test_class1()"
   ]
  },
  {
   "cell_type": "markdown",
   "id": "d917efe3-954a-4047-b4b6-b99e666ee068",
   "metadata": {},
   "source": [
    "## Q4. What are getter and setter in python? Create a class and create a getter and a setter method in this class."
   ]
  },
  {
   "cell_type": "markdown",
   "id": "7226e4f0-c410-4f0a-8a87-172420673a71",
   "metadata": {},
   "source": [
    "### In Python, getters and setters are methods used to control the access and modification of class attributes. They provide a way to retrieve and set the values of private attributes, allowing for encapsulation and data abstraction"
   ]
  },
  {
   "cell_type": "code",
   "execution_count": 60,
   "id": "55c53fd2-43cc-4b2c-bc13-48c567e8b0c1",
   "metadata": {},
   "outputs": [],
   "source": [
    "class test1 :\n",
    "    def __init__(self,a,b) :\n",
    "        self._a = a\n",
    "        self._b = b\n",
    "    def get_name(self) :\n",
    "        return self._a\n",
    "    \n",
    "    def set_name(self,a) :\n",
    "        self._a = a\n",
    "    "
   ]
  },
  {
   "cell_type": "code",
   "execution_count": 61,
   "id": "861e4d9b-4ce2-4766-b20c-925d01dfd5c8",
   "metadata": {},
   "outputs": [],
   "source": [
    "t = test1(21,34)"
   ]
  },
  {
   "cell_type": "code",
   "execution_count": 66,
   "id": "f1e6be39-b4e2-4d47-ad22-37e1decd95c7",
   "metadata": {},
   "outputs": [
    {
     "data": {
      "text/plain": [
       "44"
      ]
     },
     "execution_count": 66,
     "metadata": {},
     "output_type": "execute_result"
    }
   ],
   "source": [
    "t.get_name()\n"
   ]
  },
  {
   "cell_type": "code",
   "execution_count": 67,
   "id": "82f13d4f-aac9-4f23-b047-82cb4ddd5bcb",
   "metadata": {},
   "outputs": [],
   "source": [
    "t.set_name(44)"
   ]
  },
  {
   "cell_type": "code",
   "execution_count": 71,
   "id": "0f4fbfd7-b40f-4327-bbd8-72e5732bd501",
   "metadata": {},
   "outputs": [
    {
     "data": {
      "text/plain": [
       "44"
      ]
     },
     "execution_count": 71,
     "metadata": {},
     "output_type": "execute_result"
    }
   ],
   "source": [
    "t.get_name()"
   ]
  },
  {
   "cell_type": "markdown",
   "id": "b7e056ce-d0e1-4c25-bfe0-ac8cdfa89d50",
   "metadata": {},
   "source": [
    "## Q5.What is method overriding in python? Write a python code to demonstrate method overriding."
   ]
  },
  {
   "cell_type": "markdown",
   "id": "de65bb4a-0e88-4cf8-aecc-dbe5bf518072",
   "metadata": {},
   "source": [
    "### Method overriding is a concept in object-oriented programming where a subclass provides a different implementation of a method that is already defined in its superclass. This allows the subclass to modify or extend the behavior of the inherited method."
   ]
  },
  {
   "cell_type": "code",
   "execution_count": 73,
   "id": "1e69fb11-c120-4a04-87bb-72579b489dd4",
   "metadata": {},
   "outputs": [],
   "source": [
    "class Animal:\n",
    "    def sound(self) :\n",
    "        return \"animal makes a sound\"\n",
    "        "
   ]
  },
  {
   "cell_type": "code",
   "execution_count": 79,
   "id": "cb313a88-646d-43ea-9d8b-2d5973bf0fb5",
   "metadata": {},
   "outputs": [],
   "source": [
    "class Dog(Animal) :\n",
    "    def sound(self) :\n",
    "        return \"dog barks\"\n",
    "    "
   ]
  },
  {
   "cell_type": "code",
   "execution_count": 80,
   "id": "4abfe86b-acde-45fd-8a96-6c3e4f5c7991",
   "metadata": {},
   "outputs": [],
   "source": [
    "class Cat(Animal) :\n",
    "    def sound(self) :\n",
    "        return \"cat meow\""
   ]
  },
  {
   "cell_type": "code",
   "execution_count": 77,
   "id": "900b97ae-f518-4881-926e-7c791aaa9530",
   "metadata": {},
   "outputs": [],
   "source": [
    "animal = Animal()"
   ]
  },
  {
   "cell_type": "code",
   "execution_count": 78,
   "id": "9d625990-557c-4edd-b22f-3628569c85d5",
   "metadata": {},
   "outputs": [],
   "source": [
    "cat = Cat()"
   ]
  },
  {
   "cell_type": "code",
   "execution_count": 85,
   "id": "7cc6b72c-e347-48e6-a21b-9f35cb1672a5",
   "metadata": {},
   "outputs": [],
   "source": [
    "dog = Dog()"
   ]
  },
  {
   "cell_type": "code",
   "execution_count": 86,
   "id": "849cded6-15c9-44a5-8344-e68e402b41d8",
   "metadata": {},
   "outputs": [
    {
     "data": {
      "text/plain": [
       "'animal makes a sound'"
      ]
     },
     "execution_count": 86,
     "metadata": {},
     "output_type": "execute_result"
    }
   ],
   "source": [
    "animal.sound()"
   ]
  },
  {
   "cell_type": "code",
   "execution_count": 87,
   "id": "a4432a56-5ff9-4504-b974-66a1543c1c25",
   "metadata": {},
   "outputs": [
    {
     "data": {
      "text/plain": [
       "'cat meow'"
      ]
     },
     "execution_count": 87,
     "metadata": {},
     "output_type": "execute_result"
    }
   ],
   "source": [
    "cat.sound()"
   ]
  },
  {
   "cell_type": "code",
   "execution_count": 88,
   "id": "7d46f71d-9238-4ef3-8ebd-5c45bd32242b",
   "metadata": {},
   "outputs": [
    {
     "data": {
      "text/plain": [
       "'dog barks'"
      ]
     },
     "execution_count": 88,
     "metadata": {},
     "output_type": "execute_result"
    }
   ],
   "source": [
    "dog.sound()"
   ]
  },
  {
   "cell_type": "code",
   "execution_count": null,
   "id": "3ec3109a-697c-41f4-bfa1-824622f41cfe",
   "metadata": {},
   "outputs": [],
   "source": []
  }
 ],
 "metadata": {
  "kernelspec": {
   "display_name": "Python 3 (ipykernel)",
   "language": "python",
   "name": "python3"
  },
  "language_info": {
   "codemirror_mode": {
    "name": "ipython",
    "version": 3
   },
   "file_extension": ".py",
   "mimetype": "text/x-python",
   "name": "python",
   "nbconvert_exporter": "python",
   "pygments_lexer": "ipython3",
   "version": "3.10.8"
  }
 },
 "nbformat": 4,
 "nbformat_minor": 5
}
